{
 "cells": [
  {
   "cell_type": "markdown",
   "id": "hidden-rocket",
   "metadata": {},
   "source": [
    "#### import delle librerie"
   ]
  },
  {
   "cell_type": "code",
   "execution_count": null,
   "id": "dangerous-harvest",
   "metadata": {},
   "outputs": [],
   "source": [
    "import pandas as pd\n",
    "from sklearn.model_selection import train_test_split"
   ]
  },
  {
   "cell_type": "markdown",
   "id": "timely-crossing",
   "metadata": {},
   "source": [
    "#### carico il file csv e splitto i dati in training set e test set"
   ]
  },
  {
   "cell_type": "code",
   "execution_count": null,
   "id": "likely-register",
   "metadata": {},
   "outputs": [],
   "source": [
    "input_file = \"Placement_Data_Full_Class.train.csv\"\n",
    "data = pd.read_csv(input_file)\n",
    "\n",
    "data_train, data_test = train_test_split(data, random_state=0, test_size=0.2)"
   ]
  },
  {
   "cell_type": "markdown",
   "id": "changing-linux",
   "metadata": {},
   "source": [
    "#### salvo i due data set in file csv"
   ]
  },
  {
   "cell_type": "code",
   "execution_count": null,
   "id": "moderate-variation",
   "metadata": {},
   "outputs": [],
   "source": [
    "data_train.to_csv('train.csv', index = False)\n",
    "data_test.to_csv('test.csv', index = False)"
   ]
  },
  {
   "cell_type": "code",
   "execution_count": null,
   "id": "adult-blend",
   "metadata": {},
   "outputs": [],
   "source": []
  }
 ],
 "metadata": {
  "kernelspec": {
   "display_name": "Python 3",
   "language": "python",
   "name": "python3"
  },
  "language_info": {
   "codemirror_mode": {
    "name": "ipython",
    "version": 3
   },
   "file_extension": ".py",
   "mimetype": "text/x-python",
   "name": "python",
   "nbconvert_exporter": "python",
   "pygments_lexer": "ipython3",
   "version": "3.8.6"
  }
 },
 "nbformat": 4,
 "nbformat_minor": 5
}
