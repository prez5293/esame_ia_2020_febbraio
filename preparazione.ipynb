{
 "cells": [
  {
   "cell_type": "code",
   "execution_count": 1,
   "id": "compressed-details",
   "metadata": {},
   "outputs": [
    {
     "name": "stdout",
     "output_type": "stream",
     "text": [
      "Requirement already satisfied: pandas==1.2.2 in c:\\users\\fgalati\\appdata\\local\\packages\\pythonsoftwarefoundation.python.3.9_qbz5n2kfra8p0\\localcache\\local-packages\\python39\\site-packages (from -r requirements.txt (line 1)) (1.2.2)\n",
      "Requirement already satisfied: scikit-learn==0.24.1 in c:\\users\\fgalati\\appdata\\local\\packages\\pythonsoftwarefoundation.python.3.9_qbz5n2kfra8p0\\localcache\\local-packages\\python39\\site-packages (from -r requirements.txt (line 2)) (0.24.1)\n",
      "Requirement already satisfied: matplotlib==3.3.4 in c:\\users\\fgalati\\appdata\\local\\packages\\pythonsoftwarefoundation.python.3.9_qbz5n2kfra8p0\\localcache\\local-packages\\python39\\site-packages (from -r requirements.txt (line 3)) (3.3.4)\n",
      "Requirement already satisfied: numpy>=1.15 in c:\\users\\fgalati\\appdata\\local\\packages\\pythonsoftwarefoundation.python.3.9_qbz5n2kfra8p0\\localcache\\local-packages\\python39\\site-packages (from matplotlib==3.3.4->-r requirements.txt (line 3)) (1.20.1)\n",
      "Requirement already satisfied: pillow>=6.2.0 in c:\\users\\fgalati\\appdata\\local\\packages\\pythonsoftwarefoundation.python.3.9_qbz5n2kfra8p0\\localcache\\local-packages\\python39\\site-packages (from matplotlib==3.3.4->-r requirements.txt (line 3)) (8.1.0)\n",
      "Requirement already satisfied: pyparsing!=2.0.4,!=2.1.2,!=2.1.6,>=2.0.3 in c:\\users\\fgalati\\appdata\\local\\packages\\pythonsoftwarefoundation.python.3.9_qbz5n2kfra8p0\\localcache\\local-packages\\python39\\site-packages (from matplotlib==3.3.4->-r requirements.txt (line 3)) (2.4.7)\n",
      "Requirement already satisfied: cycler>=0.10 in c:\\users\\fgalati\\appdata\\local\\packages\\pythonsoftwarefoundation.python.3.9_qbz5n2kfra8p0\\localcache\\local-packages\\python39\\site-packages (from matplotlib==3.3.4->-r requirements.txt (line 3)) (0.10.0)\n",
      "Requirement already satisfied: kiwisolver>=1.0.1 in c:\\users\\fgalati\\appdata\\local\\packages\\pythonsoftwarefoundation.python.3.9_qbz5n2kfra8p0\\localcache\\local-packages\\python39\\site-packages (from matplotlib==3.3.4->-r requirements.txt (line 3)) (1.3.1)\n",
      "Requirement already satisfied: python-dateutil>=2.1 in c:\\users\\fgalati\\appdata\\local\\packages\\pythonsoftwarefoundation.python.3.9_qbz5n2kfra8p0\\localcache\\local-packages\\python39\\site-packages (from matplotlib==3.3.4->-r requirements.txt (line 3)) (2.8.1)\n",
      "Requirement already satisfied: pytz>=2017.3 in c:\\users\\fgalati\\appdata\\local\\packages\\pythonsoftwarefoundation.python.3.9_qbz5n2kfra8p0\\localcache\\local-packages\\python39\\site-packages (from pandas==1.2.2->-r requirements.txt (line 1)) (2021.1)\n",
      "Requirement already satisfied: threadpoolctl>=2.0.0 in c:\\users\\fgalati\\appdata\\local\\packages\\pythonsoftwarefoundation.python.3.9_qbz5n2kfra8p0\\localcache\\local-packages\\python39\\site-packages (from scikit-learn==0.24.1->-r requirements.txt (line 2)) (2.1.0)\n",
      "Requirement already satisfied: joblib>=0.11 in c:\\users\\fgalati\\appdata\\local\\packages\\pythonsoftwarefoundation.python.3.9_qbz5n2kfra8p0\\localcache\\local-packages\\python39\\site-packages (from scikit-learn==0.24.1->-r requirements.txt (line 2)) (1.0.1)\n",
      "Requirement already satisfied: scipy>=0.19.1 in c:\\users\\fgalati\\appdata\\local\\packages\\pythonsoftwarefoundation.python.3.9_qbz5n2kfra8p0\\localcache\\local-packages\\python39\\site-packages (from scikit-learn==0.24.1->-r requirements.txt (line 2)) (1.6.1)\n",
      "Requirement already satisfied: six in c:\\users\\fgalati\\appdata\\local\\packages\\pythonsoftwarefoundation.python.3.9_qbz5n2kfra8p0\\localcache\\local-packages\\python39\\site-packages (from cycler>=0.10->matplotlib==3.3.4->-r requirements.txt (line 3)) (1.15.0)\n"
     ]
    }
   ],
   "source": [
    "!pip install -r requirements.txt"
   ]
  },
  {
   "cell_type": "markdown",
   "id": "hidden-rocket",
   "metadata": {},
   "source": [
    "#### import delle librerie"
   ]
  },
  {
   "cell_type": "code",
   "execution_count": 2,
   "id": "dangerous-harvest",
   "metadata": {},
   "outputs": [],
   "source": [
    "import pandas as pd\n",
    "from sklearn.model_selection import train_test_split"
   ]
  },
  {
   "cell_type": "markdown",
   "id": "timely-crossing",
   "metadata": {},
   "source": [
    "#### carico il file csv e splitto i dati in training set e test set"
   ]
  },
  {
   "cell_type": "code",
   "execution_count": 3,
   "id": "likely-register",
   "metadata": {},
   "outputs": [],
   "source": [
    "input_file = \"Placement_Data_Full_Class.train.csv\"\n",
    "data = pd.read_csv(input_file)\n",
    "\n",
    "data_train, data_test = train_test_split(data, random_state=0, test_size=0.2)"
   ]
  },
  {
   "cell_type": "markdown",
   "id": "changing-linux",
   "metadata": {},
   "source": [
    "#### salvo i due data set in file csv"
   ]
  },
  {
   "cell_type": "code",
   "execution_count": 5,
   "id": "moderate-variation",
   "metadata": {},
   "outputs": [],
   "source": [
    "data_train.to_csv('train.csv', index = False)\n",
    "data_test.to_csv('test.csv', index = False)"
   ]
  },
  {
   "cell_type": "code",
   "execution_count": null,
   "id": "ready-keeping",
   "metadata": {},
   "outputs": [],
   "source": []
  }
 ],
 "metadata": {
  "kernelspec": {
   "display_name": "Python 3",
   "language": "python",
   "name": "python3"
  },
  "language_info": {
   "codemirror_mode": {
    "name": "ipython",
    "version": 3
   },
   "file_extension": ".py",
   "mimetype": "text/x-python",
   "name": "python",
   "nbconvert_exporter": "python",
   "pygments_lexer": "ipython3",
   "version": "3.9.1"
  }
 },
 "nbformat": 4,
 "nbformat_minor": 5
}
